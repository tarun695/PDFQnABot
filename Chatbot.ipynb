{
 "cells": [
  {
   "cell_type": "code",
   "execution_count": 1,
   "metadata": {},
   "outputs": [
    {
     "name": "stdout",
     "output_type": "stream",
     "text": [
      "LLM stands for Large Language Model. It's a type of artificial intelligence (AI) model that has been trained on a massive dataset of text and has learned to generate human-like language outputs.\n",
      "\n",
      "Large Language Models are designed to process and understand vast amounts of text data, allowing them to perform tasks such as:\n",
      "\n",
      "1. **Language translation**: LLMs can translate text from one language to another.\n",
      "2. **Text summarization**: They can summarize long pieces of text into shorter summaries.\n",
      "3. **Question answering**: LLMs can answer questions based on the content they've been trained on.\n",
      "4. **Creative writing**: Some LLMs are capable of generating creative writing, such as stories or poetry.\n",
      "5. **Conversational dialogue**: They can engage in natural-sounding conversations with humans.\n",
      "\n",
      "LLMs use a combination of techniques, including:\n",
      "\n",
      "1. **Self-supervised learning**: The model is trained on large amounts of text data without explicit supervision.\n",
      "2. **Attention mechanisms**: LLMs use attention to focus on specific parts of the input text that are relevant to the task at hand.\n",
      "3. **Recurrent neural networks (RNNs)**: Some LLMs employ RNNs, which allow them to process sequential data like text.\n",
      "\n",
      "The advantages of Large Language Models include:\n",
      "\n",
      "1. **Improved language understanding**: They can comprehend complex linguistic structures and nuances.\n",
      "2. **Increased efficiency**: LLMs can process large amounts of text quickly and accurately.\n",
      "3. **Flexibility**: They can be fine-tuned for specific tasks or domains, making them versatile tools.\n",
      "\n",
      "However, there are also concerns about the potential impact of Large Language Models on:\n",
      "\n",
      "1. **Job displacement**: Some worry that AI-powered language models could replace human language professionals.\n",
      "2. **Bias and misinformation**: LLMs may perpetuate existing biases in the data they're trained on or generate misleading information.\n",
      "\n",
      "As with any emerging technology, it's essential to consider the potential benefits and drawbacks of Large Language Models and work towards responsible development and use.\n"
     ]
    }
   ],
   "source": [
    "from langchain_community.llms import Ollama\n",
    "llm = Ollama(model=\"llama3\")\n",
    "\n",
    "response = llm.invoke(\"What is llm\")\n",
    "print(response)\n"
   ]
  },
  {
   "cell_type": "code",
   "execution_count": 2,
   "metadata": {},
   "outputs": [
    {
     "data": {
      "text/plain": [
       "[Document(page_content='Research Journal of Chemical Sciences______________ _______________________________Vol. 1 (2) May (2011 ) \\n                                    Res.J.Chem.Sci  \\n \\n135 \\n Review Paper \\nTargeted drug delivery system: A Review \\nGupta Manish and Sharma Vimukta \\nBM College of Pharmaceutical Education and Research , Indore, INDIA \\n \\nAvailable online at: www.isca.in  \\n(Received 17 th   March 2011, revised 04 th  May 2011, accepted 05 th  May 2011) \\n \\nAbstract \\nTargeted drug delivery is a method of delivering me dication to a patient in a manner that increases th e \\nconcentration of the medication in some parts of th e body relative to others. Targeted drug delivery \\nseeks to concentrate the medication in the tissues of interest while reducing the relative concentrati on of \\nthe medication in the remaining tissues. This impro ves efficacy of the while reducing side effects. It  is \\nvery difficult for a drug molecule to reach its des tination in the complex cellular network of an \\norganism. Targeted delivery of drugs, as the name s uggests, is to assist the drug molecule to reach \\npreferably to the desired site. The inherent advant age of this technique has been the reduction in dos e & \\nside effect of the drug. Research related to the de velopment of targeted drug delivery system is now a  \\nday is highly preferred and facilitating field of p harmaceutical world. A quantum dot is a semiconduct or \\nnanostructure which is particularly significant for  optical applications due to their theoretically hi gh \\nquantum yield. Transdermal devices allow for pharma ceuticals to be delivered across the skin barrier. \\nMolecules as diverse as small radiodiagnostic imagi ng agents to large DNA plasmid formulations have \\nsuccessfully been delivered inside FR-positive cell s and tissue.  \\n \\nIntroduction \\nTargeted drug delivery is a method of delivering \\nmedication to a patient in a manner that increases the \\nconcentration of the medication in some parts of th e \\nbody relative to others. Targeted drug delivery see ks \\nto concentrate the medication in the tissues of \\ninterest while reducing the relative concentration of \\nthe medication in the remaining tissues. This \\nimproves efficacy of the while reducing side effect s. \\nThis improves efficacy of the while reducing side \\neffects. Drug targeting is the delivery of drugs to  \\nreceptors or organs or any other specific part of t he \\nbody to which one wishes to deliver the drugs   \\nexclusively. The drug’s therapeutic index, as \\nmeasured by its pharmacological response and \\nsafety, relies in the access and specific  introduction \\nof the drug with its candidate receptor, whilst minimizing its introduction with non –target tissue . \\nThe desired differential distribution of drug its \\ntargeted delivery would spare the rest of the body \\nand thus significantly reduce the overall toxicity \\nwhile maintaining its therapeutic benefits   The \\ntargeted or site- specific delivery of drugs is ind eed a \\nvery attractive goal because this provides one of t he \\nmost potential ways to improve the therapeutic inde x \\nof the drugs.    \\n \\nRecent approaches \\nQuantam dots: A quantum dot is a semiconductor \\nnanostructure that confines the motion of conductio n \\nband electrons, valence band holes, or excitons \\n(bound pairs of conduction band electrons and \\nvalence band holes) in all three spatial directions . \\nThe confinement can be due to electrostatic \\npotentials (generated by external electrodes, dopin g, ', metadata={'source': 'pdfs/drug.pdf', 'page': 0}),\n",
       " Document(page_content='Research Journal of Chemical Sciences______________ _______________________________Vol. 1 (2) May (2011 ) \\n                                    Res.J.Chem.Sci  \\n \\n136 \\n strain, impurities), the presence of an interface \\nbetween different semiconductor materials (e.g. in \\ncore-shell nanocrystal systems), the presence of th e \\nsemiconductor surface (e.g. semiconductor \\nnanocrystal), or a combination of these. Quantum \\ndots are particularly significant for optical \\napplications due to their theoretically high quantu m \\nyield. The ability to tune the size of quantum dots  is \\nadvantageous for many applications and it is one of  \\nthe most promising candidates for use in solid-stat e \\nquantum computation and diagnosis , drug delivery, \\nTissue engineering, catalysis, filtration and also \\ntextiles technologies. \\n \\n                         \\n \\n \\n \\nTransdermal Approach: Transdermal drug delivery \\nsystem is topically administered medicaments in the  \\nform of patches that deliver drugs for systemic \\neffects at a predetermined and controlled rate. A \\ntransdermal drug delivery device, which may be of \\nan active or a passive design, is a device which \\nprovides an alternative route for administering \\nmedication. These devices allow for pharmaceuticals  \\nto be delivered across the skin barrier. In theory,  \\ntransdermal patches work very simply.  A drug is \\napplied in a relatively high dosage to the inside o f a \\npatch, which is worn on the skin for an extended \\nperiod of time.  Through a diffusion process, the \\ndrug enters the bloodstream directly through the \\nskin.  Since there is high concentration on the pat ch and low concentration in the blood, the drug will \\nkeep diffusing into the blood for a long period of \\ntime, maintaining the constant concentration of dru g \\nin the blood flow. \\n                                              \\n                                 \\n \\n \\nFolate Targeting: Folate targeting is a method \\nutilized in biotechnology for drug delivery purpose s. \\nIt involves the attachment of the vitamin, folate \\n(folic acid), to a molecule/drug to form a \"folate \\nconjugate\". Based on the natural high affinity of \\nfolate for the folate receptor protein (FR), which is \\ncommonly expressed on the surface of many human \\ncancers, folate-drug conjugates also bind tightly t o \\nthe FR and trigger cellular uptake via endocytosis.  \\nMolecules as diverse as small radiodiagnostic \\nimaging agents to large DNA plasmid formulations \\nhave successfully been delivered inside FR-positive  \\ncells and tissues. FA also displays high affinity f or \\nthe folate receptor (FR), a \\nglycosylphosphatidyinositol-linked protein that \\ncaptures its ligands from the extracellular milieu and \\ntransports them inside the cell via a non-destructi ve, \\nrecycling endosomal pathway.  The FR is also a \\nrecognized tumor antigen/biomarker. Because of \\nthis, diagnostic and therapeutic methods which \\nexploit the FR’s function are being developed for \\ncancer.   \\n \\nBrain targeted drug delivery system: The brain is \\na delicate organ, and evolution built very efficien t \\nways to protect it. The delivery of drugs to centra l \\nnervous system (CNS) is a challenge in the treatmen t \\nof neurological disorders. Drugs may be \\nadministered directly into the CNS or administered \\nsystematically (e.g., by intravenous injection) for  \\ntargeted action in the CNS. The major challenge to \\n', metadata={'source': 'pdfs/drug.pdf', 'page': 1}),\n",
       " Document(page_content='Research Journal of Chemical Sciences______________ _____________________________ \\n                   \\n \\n                            \\n \\nCNS drug delivery is the blood- brain barrier (BBB), \\nwhich limits the access of drugs to the brain \\nsubstanc e. Advances in understanding of the cell \\nbiology of the BBB have opened new avenues and \\npossibilities for improved drug delivery to the CNS . \\nVarious strategies that have been used for \\nmanipulating the blood- brain barrier for drug \\ndelivery to the brain incl ude osmotic and chemical \\nopening of the blood- brain barrier as well as the use \\nof transport/carrier systems. Other strategies for drug \\ndelivery to the brain involve bypassing the BBB. \\nVarious pharmacological agents have been used to \\nopen the BBB and direct invasive methods can \\nintroduce therapeutic agents into the brain substan ce. \\nIt is important to consider not only the net delive ry \\nof the agent to the CNS, but also the ability of th e \\nagent to access the relevant target site within the  \\nCNS. Various routes of administration as well as \\nconjugations of drugs, e.g., with liposomes and \\nnanoparticles, are considered.   \\n \\n                                   \\n \\nResearch Journal of Chemical Sciences______________ _____________________________ __ Vol. 1 (2) \\n                 \\n137  \\nbrain barrier (BBB), \\nwhich limits the access of drugs to the brain \\ne. Advances in understanding of the cell \\nbiology of the BBB have opened new avenues and \\npossibilities for improved drug delivery to the CNS . \\nVarious strategies that have been used for \\nbrain barrier for drug \\nude osmotic and chemical \\nbrain barrier as well as the use \\nof transport/carrier systems. Other strategies for drug \\ndelivery to the brain involve bypassing the BBB. \\nVarious pharmacological agents have been used to \\ninvasive methods can \\nintroduce therapeutic agents into the brain substan ce. \\nIt is important to consider not only the net delive ry \\nof the agent to the CNS, but also the ability of th e \\nagent to access the relevant target site within the  \\nof administration as well as \\nconjugations of drugs, e.g., with liposomes and \\n  \\nLiposomes: These are vesicular concentric \\nstructures, range in size from a nanometer to sever al \\nmicrometers, containing a phospholipids bilayer and  \\nare biocompatible, biodegradable and non \\nimmunogenic. Liposomes have generated a great \\ninterest because of their versatility and have play ed a \\nsignificant role in formulation of potent drugs to \\nimprove th erapeutics. Enhanced safety and efficacy \\nhave been achieved for a wide range of drug classes , \\nincluding antitumor agents, antiviral, antimicrobia ls, \\nvaccines, gene therapeutics etc. . Recently \\npharmaceutical science is using liposomes to reduce  \\ntoxicity an d side effect of drugs. The various \\nproblems like poor solubility, short half life and poor \\nbioavailability & strong side effect of various dru gs \\ncan be overcome by employing the concept of \\nliposomes especially in various diseases like cance r \\netc. Liposome s offer ample opportunities for the \\ninvestigators to explore the unidentified \\nbreakthrough in the field of pharmaceutical \\ntechnology. \\n \\nConclusion \\nResearch related to the development of targeted dru g \\ndelivery system is now a day is highly preferred an d \\nfacilitating field of pharmaceutical world. It has \\ncrossed the infancy period and now touching height \\nof growths from the pharmacy point of view. \\nvery difficult for a drug molecule to reach its \\ndestination in the complex cellular network of an \\norgani sm. Targeted delivery of drugs, as the name \\nsuggests, is to assist the drug molecule to reach \\npreferably to the desired site. The inherent advant age \\nof this technique has been the reduction in dose & \\nside effect of the drug. Overall it may be conclude d \\nwit h the vast database of different studies, the \\nscience of site specific or targeted delivery of th ese \\ndrugs has become wiser. Manifestation of these \\nstrategies in clinical now seems possible in near \\nfuture.  \\n \\nVol. 1 (2) May (2011) \\n        Res.J.Chem.Sci  \\nThese are vesicular concentric \\nstructures, range in size from a nanometer to sever al \\nmicrometers, containing a phospholipids bilayer and  \\nare biocompatible, biodegradable and non -\\nimmunogenic. Liposomes have generated a great \\ninterest because of their versatility and have play ed a \\nsignificant role in formulation of potent drugs to \\nerapeutics. Enhanced safety and efficacy \\nhave been achieved for a wide range of drug classes , \\nincluding antitumor agents, antiviral, antimicrobia ls, \\nvaccines, gene therapeutics etc. . Recently \\npharmaceutical science is using liposomes to reduce  \\nd side effect of drugs. The various \\nproblems like poor solubility, short half life and poor \\nbioavailability & strong side effect of various dru gs \\ncan be overcome by employing the concept of \\nliposomes especially in various diseases like cance r \\ns offer ample opportunities for the \\ninvestigators to explore the unidentified \\nbreakthrough in the field of pharmaceutical \\nResearch related to the development of targeted dru g \\ndelivery system is now a day is highly preferred an d \\nfacilitating field of pharmaceutical world. It has \\ncrossed the infancy period and now touching height \\nof growths from the pharmacy point of view.  It is \\nvery difficult for a drug molecule to reach its \\ndestination in the complex cellular network of an \\nsm. Targeted delivery of drugs, as the name \\nsuggests, is to assist the drug molecule to reach \\npreferably to the desired site. The inherent advant age \\nof this technique has been the reduction in dose & \\nside effect of the drug. Overall it may be conclude d \\nh the vast database of different studies, the \\nscience of site specific or targeted delivery of th ese \\ndrugs has become wiser. Manifestation of these \\nstrategies in clinical now seems possible in near ', metadata={'source': 'pdfs/drug.pdf', 'page': 2}),\n",
       " Document(page_content='Research Journal of Chemical Sciences______________ _______________________________Vol. 1 (2) May (2011 ) \\n                                    Res.J.Chem.Sci  \\n \\n138 \\n  \\n-1822 (2004)  \\n \\n \\n \\n \\n \\n \\n \\n \\n \\n \\n \\n \\n \\n \\n \\n \\n \\n \\n \\n \\n \\n \\n \\n \\n \\n \\n \\n \\n \\n \\n \\n \\n \\n References \\n1. Chien Y.W., Novel drug delivery systems, Drugs \\nand the Pharmaceutical Sciences,   50 ,     New York, \\n797, 992 (2008)   \\n \\n2. Allen T. M. and Cullis P. R., Drug Delivery \\nSystems, Entering the Mainstream Science, 1818 \\n \\n \\n3. Nacht S.  and Kantz M,  A.,  Novel  Topical  \\nProgrammable Delivery System, Topical Drug \\nDelivery Systems, 299-325 (1992)  \\n \\n4. Won R., Method for delivering an active \\ningredient by controlled time release utilizing a \\nnovel delivery vehicle, 825 (1987)  \\n \\n', metadata={'source': 'pdfs/drug.pdf', 'page': 3})]"
      ]
     },
     "execution_count": 2,
     "metadata": {},
     "output_type": "execute_result"
    }
   ],
   "source": [
    "from langchain_community.document_loaders import DirectoryLoader\n",
    "from langchain_community.document_loaders.csv_loader import CSVLoader\n",
    "from langchain.document_loaders import PyPDFDirectoryLoader\n",
    "\n",
    "loader = PyPDFDirectoryLoader(\"pdfs\")\n",
    "docs = loader.load()\n",
    "docs"
   ]
  },
  {
   "cell_type": "code",
   "execution_count": 3,
   "metadata": {},
   "outputs": [
    {
     "name": "stdout",
     "output_type": "stream",
     "text": [
      "page_content='Research Journal of Chemical Sciences______________ _______________________________Vol. 1 (2) May (2011 ) \\n                                    Res.J.Chem.Sci  \\n \\n136 \\n strain, impurities), the presence of an interface \\nbetween different semiconductor materials (e.g. in \\ncore-shell nanocrystal systems), the presence of th e \\nsemiconductor surface (e.g. semiconductor \\nnanocrystal), or a combination of these. Quantum \\ndots are particularly significant for optical \\napplications due to their theoretically high quantu m \\nyield. The ability to tune the size of quantum dots  is \\nadvantageous for many applications and it is one of  \\nthe most promising candidates for use in solid-stat e \\nquantum computation and diagnosis , drug delivery, \\nTissue engineering, catalysis, filtration and also \\ntextiles technologies. \\n \\n                         \\n \\n \\n \\nTransdermal Approach: Transdermal drug delivery \\nsystem is topically administered medicaments in the  \\nform of patches that deliver drugs for systemic \\neffects at a predetermined and controlled rate. A \\ntransdermal drug delivery device, which may be of \\nan active or a passive design, is a device which \\nprovides an alternative route for administering \\nmedication. These devices allow for pharmaceuticals  \\nto be delivered across the skin barrier. In theory,  \\ntransdermal patches work very simply.  A drug is \\napplied in a relatively high dosage to the inside o f a \\npatch, which is worn on the skin for an extended \\nperiod of time.  Through a diffusion process, the \\ndrug enters the bloodstream directly through the \\nskin.  Since there is high concentration on the pat ch and low concentration in the blood, the drug will \\nkeep diffusing into the blood for a long period of \\ntime, maintaining the constant concentration of dru g \\nin the blood flow. \\n                                              \\n                                 \\n \\n \\nFolate Targeting: Folate targeting is a method \\nutilized in biotechnology for drug delivery purpose s. \\nIt involves the attachment of the vitamin, folate \\n(folic acid), to a molecule/drug to form a \"folate \\nconjugate\". Based on the natural high affinity of \\nfolate for the folate receptor protein (FR), which is \\ncommonly expressed on the surface of many human \\ncancers, folate-drug conjugates also bind tightly t o \\nthe FR and trigger cellular uptake via endocytosis.  \\nMolecules as diverse as small radiodiagnostic \\nimaging agents to large DNA plasmid formulations \\nhave successfully been delivered inside FR-positive  \\ncells and tissues. FA also displays high affinity f or \\nthe folate receptor (FR), a \\nglycosylphosphatidyinositol-linked protein that \\ncaptures its ligands from the extracellular milieu and \\ntransports them inside the cell via a non-destructi ve, \\nrecycling endosomal pathway.  The FR is also a \\nrecognized tumor antigen/biomarker. Because of \\nthis, diagnostic and therapeutic methods which \\nexploit the FR’s function are being developed for \\ncancer.   \\n \\nBrain targeted drug delivery system: The brain is \\na delicate organ, and evolution built very efficien t \\nways to protect it. The delivery of drugs to centra l \\nnervous system (CNS) is a challenge in the treatmen t \\nof neurological disorders. Drugs may be \\nadministered directly into the CNS or administered \\nsystematically (e.g., by intravenous injection) for  \\ntargeted action in the CNS. The major challenge to \\n' metadata={'source': 'pdfs/drug.pdf', 'page': 1}\n"
     ]
    }
   ],
   "source": [
    "print(docs[1])\n"
   ]
  },
  {
   "cell_type": "code",
   "execution_count": 4,
   "metadata": {},
   "outputs": [],
   "source": [
    "from langchain_community.embeddings import OllamaEmbeddings\n",
    "embeddings = OllamaEmbeddings(model='llama3')"
   ]
  },
  {
   "cell_type": "code",
   "execution_count": 5,
   "metadata": {},
   "outputs": [],
   "source": [
    "from langchain_community.vectorstores import FAISS\n",
    "from langchain_text_splitters import RecursiveCharacterTextSplitter\n",
    "import pickle\n",
    "\n",
    "text_splitter = RecursiveCharacterTextSplitter()\n",
    "documents = text_splitter.split_documents(docs)\n",
    "vector = FAISS.from_documents(documents, embeddings)\n"
   ]
  },
  {
   "cell_type": "code",
   "execution_count": null,
   "metadata": {},
   "outputs": [],
   "source": [
    "\n",
    "with open(\"vector\", \"wb\") as f:\n",
    "    pickle.dump(vector, f)\n",
    "# django-admin startproject myapp"
   ]
  },
  {
   "cell_type": "code",
   "execution_count": 6,
   "metadata": {},
   "outputs": [],
   "source": [
    "from langchain.chains import create_history_aware_retriever\n",
    "from langchain_core.prompts import ChatPromptTemplate\n",
    "\n",
    "from langchain_core.prompts import MessagesPlaceholder\n",
    "\n",
    "# First we need a prompt that we can pass into an LLM to generate this search query\n",
    "retriever = vector.as_retriever()\n",
    "prompt = ChatPromptTemplate.from_messages([\n",
    "    MessagesPlaceholder(variable_name=\"chat_history\"),\n",
    "    (\"user\", \"{input}\"),\n",
    "    (\"user\", \"Given the above conversation, generate a search query to look up to get information relevant to the conversation\")\n",
    "])\n",
    "document_chain = create_history_aware_retriever(llm, retriever, prompt)"
   ]
  },
  {
   "cell_type": "code",
   "execution_count": 7,
   "metadata": {},
   "outputs": [],
   "source": [
    "from langchain_core.prompts import ChatPromptTemplate\n",
    "\n",
    "from langchain.chains import create_history_aware_retriever\n",
    "from langchain_core.prompts import MessagesPlaceholder\n",
    "from langchain.chains import create_retrieval_chain\n",
    "from langchain.chains.combine_documents import create_stuff_documents_chain\n",
    "\n",
    "retriever = vector.as_retriever()\n",
    "\n",
    "# First we need a prompt that we can pass into an LLM to generate this search query\n",
    "\n",
    "prompt = ChatPromptTemplate.from_template(\n",
    "    \"\"\" \n",
    "    \n",
    "     A set of documents related to pharmaceuticals and drug interactions is provided.\n",
    "     Your task is to extract information from these documents to accurately respond\n",
    "     to inquiries about drug effects, interactions, regulations, and other related topics.\n",
    "     Initially, search the document to find precise answers.\n",
    "     If the document does not contain the information or if the query requires additional context,\n",
    "     use your pre-trained knowledge to provide the most accurate response possible.\n",
    "     Note that the documents might contain complex medical terminology and data that requires careful interpretation.\n",
    "     When answering, ensure the response is simplified for general understanding while maintaining medical accuracy.\n",
    "     If a query pertains to adverse effects or safety guidelines and the document is inconclusive, prioritize safety in your response.\n",
    "\n",
    "<context>\n",
    "{context}\n",
    "</context>\n",
    "\n",
    "Question: {input}\"\"\"\n",
    ")\n",
    "\n",
    "\n",
    "document_chain = create_stuff_documents_chain(llm, prompt)\n",
    "# retriever_chain = create_history_aware_retriever(llm, retriever, prompt)"
   ]
  },
  {
   "cell_type": "code",
   "execution_count": 8,
   "metadata": {},
   "outputs": [],
   "source": [
    "from langchain.chains import create_retrieval_chain\n",
    "import pickle\n",
    "\n",
    "with open(\"vector\", \"rb\") as f:\n",
    "    vector = pickle.load(f)\n",
    "\n",
    "retriever = vector.as_retriever()\n",
    "retrieval_chain = create_retrieval_chain(retriever, document_chain)"
   ]
  },
  {
   "cell_type": "code",
   "execution_count": 11,
   "metadata": {},
   "outputs": [
    {
     "name": "stdout",
     "output_type": "stream",
     "text": [
      "Liposomes have generated great interest because they offer a versatile and effective way to deliver therapeutic agents, such as drugs, genes, and vaccines, to specific sites in the body. The key advantages of liposomes are:\n",
      "\n",
      "1. **Targeted delivery**: Liposomes can be designed to target specific cells, tissues, or organs, allowing for more efficient and effective treatment.\n",
      "2. **Improved bioavailability**: Liposomes can protect therapeutic agents from degradation, increasing their bioavailability and reducing side effects.\n",
      "3. **Increased efficacy**: By delivering therapeutic agents directly to the site of action, liposomes can increase the efficacy of treatments.\n",
      "4. **Reduced toxicity**: Liposomes can reduce systemic exposure to therapeutic agents, minimizing toxicity and improving patient safety.\n",
      "\n",
      "The interest in liposomes has been fueled by their potential applications in various fields, including:\n",
      "\n",
      "1. Cancer treatment: Liposomes have shown promise in delivering cancer therapies, such as chemotherapy and immunotherapy, to tumors while sparing healthy tissues.\n",
      "2. Gene therapy: Liposomes can be used to deliver genes or gene-editing tools to specific cells or organs, offering new approaches for treating genetic disorders.\n",
      "3. Vaccine development: Liposomes are being explored as a novel way to deliver vaccine antigens to the immune system, enhancing their efficacy and safety.\n",
      "\n",
      "Overall, the versatility, targeting ability, and potential benefits of liposomes have generated significant interest in the scientific community and have led to ongoing research and development in this area.\n"
     ]
    }
   ],
   "source": [
    "response = retrieval_chain.invoke({\"input\": \"\"\"\" why has liposomes generated great interest?\"\"\"})\n",
    "print(response['answer'])\n",
    "\n",
    "# LangSmith offers several features that can help with testing:..."
   ]
  }
 ],
 "metadata": {
  "kernelspec": {
   "display_name": "Python 3",
   "language": "python",
   "name": "python3"
  },
  "language_info": {
   "codemirror_mode": {
    "name": "ipython",
    "version": 3
   },
   "file_extension": ".py",
   "mimetype": "text/x-python",
   "name": "python",
   "nbconvert_exporter": "python",
   "pygments_lexer": "ipython3",
   "version": "3.1.undefined"
  }
 },
 "nbformat": 4,
 "nbformat_minor": 2
}
